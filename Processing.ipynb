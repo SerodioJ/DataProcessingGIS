{
 "cells": [
  {
   "cell_type": "markdown",
   "metadata": {},
   "source": [
    "# <center> Data Processing </center>"
   ]
  },
  {
   "cell_type": "markdown",
   "metadata": {},
   "source": [
    "Libraries"
   ]
  },
  {
   "cell_type": "code",
   "execution_count": 1,
   "metadata": {},
   "outputs": [],
   "source": [
    "import pandas as pd\n",
    "from src.data_process import process\n",
    "import warnings\n",
    "warnings.filterwarnings('ignore') "
   ]
  },
  {
   "cell_type": "markdown",
   "metadata": {},
   "source": [
    "Data Source Selection (define the path to the CSV File)"
   ]
  },
  {
   "cell_type": "code",
   "execution_count": 2,
   "metadata": {},
   "outputs": [],
   "source": [
    "path = \"data/baseOD/base-od-cargas-08022017-1-.csv\""
   ]
  },
  {
   "cell_type": "code",
   "execution_count": 3,
   "metadata": {},
   "outputs": [
    {
     "data": {
      "text/plain": [
       "Index(['ID_EMP', 'ID_INST', 'ID_MOV', 'F_EMP', 'F_INST', 'SETOR_PORTE_EMP',\n",
       "       'SETOR_EMP', 'PORTE_EMP', 'FAIXA_EMPREGADOS_EMP',\n",
       "       'UNIDADE_MOVIMENTO_EMP',\n",
       "       ...\n",
       "       'EXP_EXPANDIDO_INST', 'REC_EXPANDIDO_INST', 'EXP_EXPANDIDO_EMP',\n",
       "       'REC_EXPANDIDO_EMP', 'MACROZONA_NOME_INST', 'MACROZONA_CODIGO_INST',\n",
       "       'MACROZONA_NOME_MOV', 'MACROZONA_CODIGO_MOV', 'QUANT_EXP_DETALHADO_EMP',\n",
       "       'QUANT_REC_DETALHADO_EMP'],\n",
       "      dtype='object', length=209)"
      ]
     },
     "execution_count": 3,
     "metadata": {},
     "output_type": "execute_result"
    }
   ],
   "source": [
    "data = pd.read_csv(path, sep=\";\")\n",
    "data.columns"
   ]
  },
  {
   "cell_type": "markdown",
   "metadata": {},
   "source": [
    "Templates Selection (define the path to templates files - JSON Format)"
   ]
  },
  {
   "cell_type": "code",
   "execution_count": 4,
   "metadata": {},
   "outputs": [],
   "source": [
    "node_template = \"templates/Nodes/baseOD.json\"\n",
    "edge_template = \"templates/Edges/baseOD.json\""
   ]
  },
  {
   "cell_type": "markdown",
   "metadata": {},
   "source": [
    "Output Selection (define the path where the output folders Nodes and Edges with their respective JSON files will be created)"
   ]
  },
  {
   "cell_type": "code",
   "execution_count": 5,
   "metadata": {},
   "outputs": [],
   "source": [
    "output_folder = \"ProcessedData/baseOD\""
   ]
  },
  {
   "cell_type": "markdown",
   "metadata": {},
   "source": [
    "Processing (can take some time)"
   ]
  },
  {
   "cell_type": "code",
   "execution_count": 6,
   "metadata": {},
   "outputs": [
    {
     "name": "stdout",
     "output_type": "stream",
     "text": [
      "Data Processed Correctly. It can be accessed in ProcessedData/baseOD\n"
     ]
    }
   ],
   "source": [
    "if process(data, node_template, edge_template, output_folder) == 0:\n",
    "    print(\"Data Processed Correctly. It can be accessed in {}\".format(output_folder))\n",
    "else:\n",
    "    print(\"An Error Occurred\")"
   ]
  },
  {
   "cell_type": "code",
   "execution_count": null,
   "metadata": {},
   "outputs": [],
   "source": []
  }
 ],
 "metadata": {
  "kernelspec": {
   "display_name": "Python 3",
   "language": "python",
   "name": "python3"
  },
  "language_info": {
   "codemirror_mode": {
    "name": "ipython",
    "version": 3
   },
   "file_extension": ".py",
   "mimetype": "text/x-python",
   "name": "python",
   "nbconvert_exporter": "python",
   "pygments_lexer": "ipython3",
   "version": "3.7.3"
  }
 },
 "nbformat": 4,
 "nbformat_minor": 4
}
