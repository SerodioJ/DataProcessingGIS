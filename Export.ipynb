{
 "cells": [
  {
   "cell_type": "markdown",
   "metadata": {},
   "source": [
    "# <center> Export </center>"
   ]
  },
  {
   "cell_type": "markdown",
   "metadata": {},
   "source": [
    "Libraries\n"
   ]
  },
  {
   "cell_type": "code",
   "execution_count": 2,
   "metadata": {},
   "outputs": [],
   "source": [
    "import pandas as pd\n",
    "import json\n",
    "import os\n",
    "from src.spatial import generate_JSON"
   ]
  },
  {
   "cell_type": "markdown",
   "metadata": {},
   "source": [
    "Source selection"
   ]
  },
  {
   "cell_type": "code",
   "execution_count": 3,
   "metadata": {},
   "outputs": [],
   "source": [
    "path = \"ProcessedData/basedOD\" #path to directory with Nodes and Edges folders\n",
    "zoning_dic = \"data/baseOD/zoning.json\" #path to a json file with city name, its zones and respective regions' name\n",
    "credentials = \"credentials/credentials.json\" #path to the crednetials file"
   ]
  },
  {
   "cell_type": "markdown",
   "metadata": {},
   "source": [
    "Output selection"
   ]
  },
  {
   "cell_type": "code",
   "execution_count": 4,
   "metadata": {},
   "outputs": [],
   "source": [
    "out = \"out/baseOD\" #where the CSV files will be stored\n",
    "file_name = \"petro.csv\" #CSV file name\n",
    "spatial_dic = \"data/baseOD/spatial.json\" #where spatial information (lat/lng) will be stored"
   ]
  },
  {
   "cell_type": "markdown",
   "metadata": {},
   "source": [
    "Lat/Long retrieval (via Google Maps API)"
   ]
  },
  {
   "cell_type": "code",
   "execution_count": 5,
   "metadata": {},
   "outputs": [
    {
     "name": "stdout",
     "output_type": "stream",
     "text": [
      "Lat/Long retrieved sucessfully\n"
     ]
    }
   ],
   "source": [
    "if (generate_JSON(zoning_dic, spatial_dic, credentials) == 0):\n",
    "    print('Lat/Long retrieved sucessfully')\n",
    "else:\n",
    "    print(\"An error occurerd\")"
   ]
  },
  {
   "cell_type": "markdown",
   "metadata": {},
   "source": [
    "Export specifications (this part needs to be coded for each specific case, as no templates were used)"
   ]
  },
  {
   "cell_type": "code",
   "execution_count": 6,
   "metadata": {},
   "outputs": [
    {
     "name": "stdout",
     "output_type": "stream",
     "text": [
      "    ID                                               name        lat  \\\n",
      "0    1                                               [Sé] -23.552849   \n",
      "1    2                                        [República] -23.545108   \n",
      "2    3                                 [Bom Retiro, Brás] -23.531705   \n",
      "3    4                                          [Cambucí] -23.564473   \n",
      "4    5                                        [Liberdade] -23.559917   \n",
      "5    6            [Consolação, Bela Vista,  Jd. Paulista] -23.560480   \n",
      "6    7                                         [Perdizes] -23.536902   \n",
      "7    8                      [Santa Cecília,  Barra Funda] -23.533695   \n",
      "8    9                                     [Pari,  Belém] -23.537099   \n",
      "9   10                                            [Móoca] -23.560326   \n",
      "10  11                                         [Ipiranga] -23.588061   \n",
      "11  12                                     [Vila Mariana] -23.589702   \n",
      "12  13                                        [Pinheiros] -23.563579   \n",
      "13  14                                [Alto de Pinheiros] -23.553274   \n",
      "14  15                                             [Lapa] -23.522734   \n",
      "15  16                               [Limão,  Freg. Do Ó] -23.504471   \n",
      "16  17                             [Santana,  Casa Verde] -23.504992   \n",
      "17  18            [V. Guilherme,  V. Medeiros,  V. Maria] -23.507072   \n",
      "18  19                          [São Mateus,  Aricanduva] -23.590661   \n",
      "19  20                                 [Carrão,  Tatuapé] -23.542937   \n",
      "20  21  [Sapopemba,  São Lucas,  Água Rasa,  V. Formos... -23.572163   \n",
      "21  22                                  [Cursino, Sacomã] -23.608993   \n",
      "22  23                                            [Saúde] -23.618338   \n",
      "23  24                                            [Moema] -23.602021   \n",
      "24  25                                       [Itaim Bibi] -23.583748   \n",
      "25  26                                  [Vila Leopoldina] -23.532430   \n",
      "26  27                           [São Domingos,  Jaguara] -23.509190   \n",
      "27  28                               [Pirituba,  Jaraguá] -23.468306   \n",
      "28  29             [Mandaqui, Brasilândia,  Cachoeirinha] -23.472289   \n",
      "29  30                                [Jaçanã,  Tucuruví] -23.470512   \n",
      "30  31                    [Ermelini Matarazzo,  Cangaíba] -23.487377   \n",
      "31  32                               [Penha,  Ponte Rasa] -23.517540   \n",
      "32  33          [Artur Alvim,  Cidade Lider,  V. Matilde] -23.547174   \n",
      "33  34                                        [Jabaquara] -23.639648   \n",
      "34  35                                       [Campo Belo] -23.622030   \n",
      "35  36                   [Butantã,  Morumbí,  Vila Sônia] -23.585476   \n",
      "36  37           [Jaguaré,  Raposo Tavares,  Rio Pequeno] -23.567204   \n",
      "37  38                               [Anhanguera,  Perus] -23.422485   \n",
      "38  39                                         [Tremembé] -23.459863   \n",
      "39  40  [Vila Jacuí,  V. Curuça,  São Miguel,  Jd. Hel... -23.516920   \n",
      "40  41                    [José Bonifácio,  Pq. Do Carmo] -22.311944   \n",
      "41  42        [Cidade Tiradentes,  Iguatemí,  São Rafael] -23.602462   \n",
      "42  43                                      [Santo Amaro] -23.653663   \n",
      "43  44                                     [Campo Grande] -23.678090   \n",
      "44  45         [Campo Límpo,  Capão Redondo,  Jd. Angela] -23.668685   \n",
      "45  46  [Cidade Ademar,  Cidade Dutra,  Pedreira,  Soc... -23.178563   \n",
      "46  47                         [V. Andrade, Jd. São Luiz] -23.722258   \n",
      "47  48                         [Pedreira,  Cidade Ademar] -23.206029   \n",
      "48  49                  [Grajaú,  Marsilac,  Parelheiros] -23.827170   \n",
      "\n",
      "         long  Produtos Agícolas em kg(in)  Produtos Agícolas em kg(out)  \n",
      "0  -46.630715                       3580.0                        3262.0  \n",
      "1  -46.642778                       1242.0                           0.0  \n",
      "2  -46.627329                        300.0                         450.0  \n",
      "3  -46.621113                          0.0                          70.0  \n",
      "4  -46.631259                       3000.0                           0.0  \n",
      "5  -46.652970                       4750.0                         300.0  \n",
      "6  -46.674317                        309.0                           0.0  \n",
      "7  -46.659128                       2885.0                           0.0  \n",
      "8  -46.601310                          0.0                           0.0  \n",
      "9  -46.599590                       2030.0                           0.0  \n",
      "10 -46.604037                      68755.0                           0.0  \n",
      "11 -46.634638                       2491.0                         300.0  \n",
      "12 -46.691607                      18305.0                         800.0  \n",
      "13 -46.709630                          8.0                           0.0  \n",
      "14 -46.711419                       7250.0                        3868.0  \n",
      "15 -46.684721                       2000.0                         600.0  \n",
      "16 -46.641517                       3200.0                           0.0  \n",
      "17 -46.593686                       2000.0                           0.0  \n",
      "18 -46.490926                       5450.0                        1000.0  \n",
      "19 -46.556877                       2075.0                           0.0  \n",
      "20 -46.552939                        320.0                           5.0  \n",
      "21 -46.611247                         12.0                         300.0  \n",
      "22 -46.635497                          4.0                          12.0  \n",
      "23 -46.672103                       4518.0                           0.0  \n",
      "24 -46.678074                        146.0                           0.0  \n",
      "25 -46.733589                    1112907.0                      389925.0  \n",
      "26 -46.744402                     229293.0                      188128.0  \n",
      "27 -46.742809                       4640.0                           0.0  \n",
      "28 -46.657073                       3190.0                           0.0  \n",
      "29 -46.591116                       2005.0                          50.0  \n",
      "30 -46.499586                       2000.0                           0.0  \n",
      "31 -46.522056                        350.0                          50.0  \n",
      "32 -46.490261                          0.0                           0.0  \n",
      "33 -46.650517                        633.0                         216.0  \n",
      "34 -46.672020                         13.0                           0.0  \n",
      "35 -46.724442                        825.0                         800.0  \n",
      "36 -46.755822                        650.0                        3430.0  \n",
      "37 -46.775879                       2010.0                         300.0  \n",
      "38 -46.625474                          0.0                           0.0  \n",
      "39 -46.423440                      12504.0                         370.0  \n",
      "40 -48.078079                          0.0                           0.0  \n",
      "41 -46.515524                          0.0                           0.0  \n",
      "42 -46.706693                      25620.0                           0.0  \n",
      "43 -46.687237                          0.0                           0.0  \n",
      "44 -46.764383                       2800.0                           0.0  \n",
      "45 -46.696195                       2100.0                           0.0  \n",
      "46 -46.734577                      41202.0                         300.0  \n",
      "47 -46.776292                          0.0                           0.0  \n",
      "48 -46.703473                        120.0                         300.0  \n"
     ]
    }
   ],
   "source": [
    "data = \"ProcessedData/baseOD/Nodes\"\n",
    "category = \"1.0\"\n",
    "unity = \"2.0\"\n",
    "with open(spatial_dic, \"r\") as spatial_file:\n",
    "    spatial_ref = json.load(spatial_file)\n",
    "df = pd.DataFrame(columns=[\"ID\", \"name\", \"lat\", \"long\", \"Produtos Agícolas em kg(in)\", \"Produtos Agícolas em kg(out)\"])\n",
    "row_list = []\n",
    "for zone in spatial_ref.keys():\n",
    "    with open(os.path.join(data, \"{}.json\".format(zone)),'r') as node:\n",
    "        aux = json.load(node)\n",
    "        try:\n",
    "            inD = float(aux[\"in\"][category][unity])\n",
    "        except:\n",
    "            inD = 0.0\n",
    "        try:\n",
    "            outD = float(aux[\"out\"][category][unity])\n",
    "        except:\n",
    "            outD = 0.0\n",
    "    row = {\n",
    "        \"ID\" : zone,\n",
    "        \"name\": spatial_ref[zone][\"name\"],\n",
    "        \"lat\": spatial_ref[zone][\"lat\"],\n",
    "        \"long\": spatial_ref[zone][\"lng\"],\n",
    "        \"Produtos Agícolas em kg(in)\" : inD,\n",
    "        \"Produtos Agícolas em kg(out)\": outD\n",
    "    }\n",
    "    row_list.append(row)\n",
    "df = df.append(row_list, ignore_index=True)\n",
    "os.makedirs(out, exist_ok=True)\n",
    "df.to_csv(os.path.join(out, file_name), index = False, header=True)\n",
    "print(df)\n",
    "    "
   ]
  },
  {
   "cell_type": "code",
   "execution_count": null,
   "metadata": {},
   "outputs": [],
   "source": []
  }
 ],
 "metadata": {
  "kernelspec": {
   "display_name": "Python 3",
   "language": "python",
   "name": "python3"
  },
  "language_info": {
   "codemirror_mode": {
    "name": "ipython",
    "version": 3
   },
   "file_extension": ".py",
   "mimetype": "text/x-python",
   "name": "python",
   "nbconvert_exporter": "python",
   "pygments_lexer": "ipython3",
   "version": "3.7.3"
  }
 },
 "nbformat": 4,
 "nbformat_minor": 4
}
